{
 "cells": [
  {
   "cell_type": "markdown",
   "metadata": {
    "collapsed": true
   },
   "source": [
    "# Industry Accelerators - Customer Churn Prediction"
   ]
  },
  {
   "cell_type": "markdown",
   "metadata": {},
   "source": [
    "### Introduction\n",
    "\n",
    "The Customer Churn Prediction accelerator includes a structured glossary of more than 100 business terms and a set of sample data science assets. The glossary provides the information architecture that you need to understand why customers leave. Your data scientists can use the sample notebooks, predictive models, and dashboards to accelerate data preparation, machine learning modeling, and data reporting. Understand the likelihood of a Customer Churn occuring or their Funds Under Management dropping by a specific threshold or higher in a month & analyse the business metrics influencing the Churn based on temporal data."
   ]
  },
  {
   "cell_type": "markdown",
   "metadata": {},
   "source": [
    "<p>\n",
    "    <img src=\"../misc/images/acceleratorWorkflow.png\" alt=\"Service details\" style=\"height: 500px;\" align=\"center\" />\n",
    "    <br style=\"clear: both;\" />\n",
    "</p>"
   ]
  },
  {
   "cell_type": "markdown",
   "metadata": {},
   "source": [
    "## Inventory of Artifacts provided"
   ]
  },
  {
   "cell_type": "markdown",
   "metadata": {},
   "source": [
    "### Knowledge Catalog\n",
    "\n",
    "Described in the Knowledge Center  https://www.ibm.com/support/knowledgecenter/en/SSQNUZ"
   ]
  },
  {
   "cell_type": "markdown",
   "metadata": {},
   "source": [
    "### Sample Datasets\n",
    "\n",
    "The sample input datasets are : \n",
    "\n",
    "* **'customer.csv'** : Customer Data, Demographic data, Temporal data. \n",
    "* **'account.csv'** : Account type and Account Information Data, Investment Information, Temporal data. \n",
    "* **'customer summary'** : Detailed Customer Transaction Data, Business Metrics, Investment and Income Stats.\n",
    "\n",
    "The idea is to generate a dataset which is used as input for model training and scoring purposes. For that purpose the above three datasets initially need to merged on the basis of the following data fields : \n",
    "* **customer.customer_id, customer.effective_date, customer_summary.customer_id, customer_summary.end_date, account.primary_customer_id, account.open_date and account.close_date.**\n",
    "\n",
    "The merged dataset is the ***'customer_history.csv'***. This CSV typically will be starting point for the Data preparation. Given a list of transactions that the customer experiences, the script transforms this long form dataset into a wide format with one record per customer, which can be used for modelling purposes. \n",
    "\n",
    "To generate the 'customer_history.csv' find the SQL Query under **Scripts > sql > CUSTOMER_HISTORY_VIEW.sql** "
   ]
  },
  {
   "cell_type": "markdown",
   "metadata": {},
   "source": [
    "### Notebooks\n",
    "\n",
    "* **1-model-train**: Load data, prepare and clean data for model training, correlation analysis, build ML models, exploratory data analysis, data visualization, selecting best performing ML model and saving to ICP4D.\n",
    "* **2-model-score** : Operationalize the models, Test the scoring pipeline as a Web Service, Release and Deploy Model Scoring REST API Endpoint, Release the project, Deployment of scoring pipeline as Webservice.\n"
   ]
  },
  {
   "cell_type": "markdown",
   "metadata": {},
   "source": [
    "### Scripts\n",
    "\n",
    "The following scripts are called from the notebooks mentioned above : \n",
    "\n",
    "* **churn_prep.py** : Called from 1-model-train notebook. The script performs the data preparation and generates the dataset that is used for modelling. We take a wide form dataset with customer details, customer summary over time and aggregate account statistics, filter to include only columns that are relevant, complete data cleaning and produce the data for modelling. The script also stamps each customer with the target variable, whether they have churned or not. A customer has churned if their status becomes ‘Inactive’ or if their funds under management drops by a specified percentage or more in a month.\n",
    "\n",
    "* **Churn_Scoring_Pipeline.py** : Called from 2-model-score. Loads models, Executes the model scoring and generates the predictions for the customer churn, Extracts the highest impact features and collaborates data to be used for the Dashboard. "
   ]
  },
  {
   "cell_type": "markdown",
   "metadata": {},
   "source": [
    "### R - Studio\n",
    "\n",
    "* **Dashboard View** : Shows top action clients,  monthly customer churn, and customer churn risk level. Provides Search option to get client activity based on Customer ID. \n",
    "* **Client View** : Targets individual client information, depicts the top business metrics, account details,  provides option to run the model scoring webservice, predicts Customer Churn and Visualizes the influential factors and data fields\n"
   ]
  },
  {
   "cell_type": "markdown",
   "metadata": {},
   "source": [
    "### Sequence of steps to run -- \n",
    "\n",
    "* Click notebooks, open 1-model-train & execute step-by-step\n",
    "* Click notebooks, open 2-model-score & execute step-by-step\n",
    "* Click RStudio, under the **Shiny** sub group click on CustomerChurnDashboard and Run the Shiny app by clicking on Run App button (from app.R file) \n",
    "                                                  **OR**\n",
    "  If you deployed the app from the asset tab then Launch the dashboard by clicking on the shiny Dashboard under deployments tab in the Project Release    "
   ]
  },
  {
   "cell_type": "markdown",
   "metadata": {},
   "source": [
    "**This project contains Sample Materials, provided under license. <br>\n",
    "Licensed Materials - Property of IBM. <br>\n",
    "© Copyright IBM Corp. 2019. All Rights Reserved. <br>\n",
    "US Government Users Restricted Rights - Use, duplication or disclosure restricted by GSA ADP Schedule Contract with IBM Corp.<br>**"
   ]
  }
 ],
 "metadata": {
  "kernelspec": {
   "display_name": "Python 3",
   "language": "python",
   "name": "python3"
  },
  "language_info": {
   "codemirror_mode": {
    "name": "ipython",
    "version": 3
   },
   "file_extension": ".py",
   "mimetype": "text/x-python",
   "name": "python",
   "nbconvert_exporter": "python",
   "pygments_lexer": "ipython3",
   "version": "3.7.1"
  }
 },
 "nbformat": 4,
 "nbformat_minor": 2
}
